{
 "cells": [
  {
   "cell_type": "code",
   "execution_count": 22,
   "metadata": {},
   "outputs": [],
   "source": [
    "target_phrase= \"Love cannot be found where it doesn’t exist, nor can it be hidden where it truly does\"\n",
    "user_phrase=\"Love cannot be found where it doesn’t exist, nor can it be hidden where it truly does\""
   ]
  },
  {
   "cell_type": "code",
   "execution_count": 17,
   "metadata": {},
   "outputs": [
    {
     "name": "stdout",
     "output_type": "stream",
     "text": [
      "['Love', 'cannot', 'be', 'found', 'where', 'it', 'doesn’t', 'exist,', 'nor', 'can', 'it', 'be', 'hidden', 'where', 'it', 'truly', 'does']\n"
     ]
    }
   ],
   "source": [
    "target_phrase = target_phrase.split()\n",
    "user_phrase = user_phrase.split()\n",
    "\n",
    "print(target_phrase)"
   ]
  },
  {
   "cell_type": "code",
   "execution_count": 19,
   "metadata": {},
   "outputs": [
    {
     "name": "stdout",
     "output_type": "stream",
     "text": [
      "51\n"
     ]
    }
   ],
   "source": [
    "words_count = len(target_phrase)\n",
    "point = 0\n",
    "for i in range(words_count):\n",
    "    if target_phrase[i] == user_phrase[i]:\n",
    "        point += 3\n",
    "        \n",
    "print(point)"
   ]
  },
  {
   "cell_type": "code",
   "execution_count": 20,
   "metadata": {},
   "outputs": [
    {
     "data": {
      "text/plain": [
       "'Love'"
      ]
     },
     "execution_count": 20,
     "metadata": {},
     "output_type": "execute_result"
    }
   ],
   "source": [
    "target_phrase[0]"
   ]
  },
  {
   "cell_type": "code",
   "execution_count": 21,
   "metadata": {},
   "outputs": [],
   "source": [
    "def compare_phrase(target_phrase, user_phrase):\n",
    "    \n",
    "    # それぞれのフレーズをスペースおきにリスト化\n",
    "    target_phrase = target_phrase.split()\n",
    "    user_phrase = user_phrase.split()\n",
    "    \n",
    "    # 　単語ごとに一致しているかどうか判定し、3pt追加\n",
    "    points = 0\n",
    "    words_count = len(target_phrase)\n",
    "    for i in range(words_count):\n",
    "        if target_phrase[i] == user_phrase[i]:\n",
    "            points += 3\n",
    "    print(points)\n",
    "    "
   ]
  },
  {
   "cell_type": "code",
   "execution_count": 23,
   "metadata": {},
   "outputs": [
    {
     "name": "stdout",
     "output_type": "stream",
     "text": [
      "51\n"
     ]
    }
   ],
   "source": [
    "compare_phrase(target_phrase, user_phrase)"
   ]
  },
  {
   "cell_type": "code",
   "execution_count": null,
   "metadata": {},
   "outputs": [],
   "source": []
  },
  {
   "cell_type": "code",
   "execution_count": null,
   "metadata": {},
   "outputs": [],
   "source": []
  },
  {
   "cell_type": "code",
   "execution_count": 27,
   "metadata": {},
   "outputs": [
    {
     "name": "stdout",
     "output_type": "stream",
     "text": [
      "のこり10秒です\n",
      "のこり9秒です\n",
      "のこり8秒です\n",
      "のこり7秒です\n",
      "のこり6秒です\n",
      "のこり5秒です\n",
      "のこり4秒です\n",
      "のこり3秒です\n",
      "のこり2秒です\n",
      "のこり1秒です\n",
      "時間です！\n"
     ]
    }
   ],
   "source": [
    "from time import sleep\n",
    "\n",
    "for i in range(0,10):\n",
    "    print(\"のこり{}秒です\".format(10-i))\n",
    "    sleep(1)\n",
    "print(\"時間です！\")"
   ]
  },
  {
   "cell_type": "code",
   "execution_count": null,
   "metadata": {},
   "outputs": [],
   "source": []
  }
 ],
 "metadata": {
  "kernelspec": {
   "display_name": "Python 3",
   "language": "python",
   "name": "python3"
  },
  "language_info": {
   "codemirror_mode": {
    "name": "ipython",
    "version": 3
   },
   "file_extension": ".py",
   "mimetype": "text/x-python",
   "name": "python",
   "nbconvert_exporter": "python",
   "pygments_lexer": "ipython3",
   "version": "3.6.4"
  }
 },
 "nbformat": 4,
 "nbformat_minor": 2
}
